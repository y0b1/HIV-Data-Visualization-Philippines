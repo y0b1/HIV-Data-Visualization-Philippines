{
 "cells": [
  {
   "cell_type": "code",
   "execution_count": null,
   "id": "44802b65",
   "metadata": {
    "vscode": {
     "languageId": "plaintext"
    }
   },
   "outputs": [],
   "source": [
    "import pandas as pd\n",
    "import matplotlib.pyplot as plt\n",
    "from sklearn.model_selection import train_test_split\n",
    "from sklearn.preprocessing import LabelEncoder, StandardScaler\n",
    "from sklearn.linear_model import LogisticRegression\n",
    "from sklearn.cluster import KMeans\n",
    "from sklearn.metrics import classification_report, confusion_matrix\n",
    "\n",
    "from google.colab import files\n",
    "uploaded = files.upload()\n",
    "\n",
    "df = pd.read_csv(\"Raw HIV Data Philippines.csv\", skiprows=1)\n",
    "\n",
    "if \"Total\" in df.columns:\n",
    "    df = df.drop(columns=[\"Total\"])\n",
    "\n",
    "print(\"Cleaned format:\")\n",
    "print(df.head())\n",
    "\n",
    "df_long = df.melt(id_vars=[\"Age Group\"], var_name=\"Year\", value_name=\"Cases\")\n",
    "\n",
    "print(\"\\nLong format preview:\")\n",
    "print(df_long.head(12))\n",
    "\n",
    "le = LabelEncoder()\n",
    "df_long[\"AgeGroupEncoded\"] = le.fit_transform(df_long[\"Age Group\"].astype(str))\n",
    "\n",
    "df_long[\"Year\"] = pd.to_numeric(df_long[\"Year\"], errors=\"coerce\")\n",
    "\n",
    "df_long.dropna(inplace=True)\n",
    "\n",
    "scaler = StandardScaler()\n",
    "X = scaler.fit_transform(df_long[[\"Year\", \"AgeGroupEncoded\"]])\n",
    "y = df_long[\"Cases\"]\n",
    "\n",
    "X_train, X_test, y_train, y_test = train_test_split(\n",
    "    df_long[[\"Year\", \"Cases\"]], df_long[\"AgeGroupEncoded\"], test_size=0.3, random_state=42\n",
    ")\n",
    "\n",
    "clf = LogisticRegression(max_iter=1000)\n",
    "clf.fit(X_train, y_train)\n",
    "y_pred = clf.predict(X_test)\n",
    "\n",
    "print(\"\\nClassification Report (predicting Age Group):\")\n",
    "print(classification_report(y_test, y_pred))\n",
    "\n",
    "kmeans = KMeans(n_clusters=3, random_state=42)\n",
    "clusters = kmeans.fit_predict(df_long[[\"Cases\", \"Year\"]])\n",
    "\n",
    "df_long[\"Cluster\"] = clusters\n",
    "print(\"\\nCluster distribution:\")\n",
    "print(df_long[\"Cluster\"].value_counts())\n",
    "\n",
    "plt.scatter(df_long[\"Year\"], df_long[\"Cases\"], c=clusters, cmap=\"viridis\")\n",
    "plt.xlabel(\"Year\")\n",
    "plt.ylabel(\"Cases\")\n",
    "plt.title(\"KMeans Clustering of HIV Cases by Year\")\n",
    "plt.show()\n"
   ]
  }
 ],
 "metadata": {
  "language_info": {
   "name": "python"
  }
 },
 "nbformat": 4,
 "nbformat_minor": 5
}
